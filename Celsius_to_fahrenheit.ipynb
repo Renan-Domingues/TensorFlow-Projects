{
  "nbformat": 4,
  "nbformat_minor": 0,
  "metadata": {
    "colab": {
      "provenance": [],
      "authorship_tag": "ABX9TyO1BlHatum7n9rrfvYrl4Do",
      "include_colab_link": true
    },
    "kernelspec": {
      "name": "python3",
      "display_name": "Python 3"
    },
    "language_info": {
      "name": "python"
    }
  },
  "cells": [
    {
      "cell_type": "markdown",
      "metadata": {
        "id": "view-in-github",
        "colab_type": "text"
      },
      "source": [
        "<a href=\"https://colab.research.google.com/github/Renan-Domingues/TensorFlow-Projects/blob/main/Celsius_to_fahrenheit.ipynb\" target=\"_parent\"><img src=\"https://colab.research.google.com/assets/colab-badge.svg\" alt=\"Open In Colab\"/></a>"
      ]
    },
    {
      "cell_type": "markdown",
      "source": [
        "**A ideia deste projeto simples é desenvolver alguns conhecimentos usando a aprendizagem de maquina, transformando temperatura em Celsius para Fahrenheit**"
      ],
      "metadata": {
        "id": "GtQj-8x1nMNC"
      }
    },
    {
      "cell_type": "code",
      "source": [
        "import tensorflow as tf"
      ],
      "metadata": {
        "id": "PzFPBTR7n7lM"
      },
      "execution_count": 1,
      "outputs": []
    },
    {
      "cell_type": "code",
      "source": [
        "# Criando dados em celsius\n",
        "import random\n",
        "\n",
        "random.seed(42)\n",
        "celsius = [random.randint(1, 100) for i in range(50)]\n",
        "\n",
        "celsius"
      ],
      "metadata": {
        "colab": {
          "base_uri": "https://localhost:8080/"
        },
        "id": "5-gj82Hqpeoz",
        "outputId": "06b51255-e949-4e33-cd5b-8f250c4f01b3"
      },
      "execution_count": 2,
      "outputs": [
        {
          "output_type": "execute_result",
          "data": {
            "text/plain": [
              "[82,\n",
              " 15,\n",
              " 4,\n",
              " 95,\n",
              " 36,\n",
              " 32,\n",
              " 29,\n",
              " 18,\n",
              " 95,\n",
              " 14,\n",
              " 87,\n",
              " 95,\n",
              " 70,\n",
              " 12,\n",
              " 76,\n",
              " 55,\n",
              " 5,\n",
              " 4,\n",
              " 12,\n",
              " 28,\n",
              " 30,\n",
              " 65,\n",
              " 78,\n",
              " 4,\n",
              " 72,\n",
              " 26,\n",
              " 92,\n",
              " 84,\n",
              " 90,\n",
              " 70,\n",
              " 54,\n",
              " 29,\n",
              " 58,\n",
              " 76,\n",
              " 36,\n",
              " 1,\n",
              " 98,\n",
              " 21,\n",
              " 90,\n",
              " 55,\n",
              " 44,\n",
              " 36,\n",
              " 20,\n",
              " 28,\n",
              " 98,\n",
              " 44,\n",
              " 14,\n",
              " 12,\n",
              " 49,\n",
              " 13]"
            ]
          },
          "metadata": {},
          "execution_count": 2
        }
      ]
    },
    {
      "cell_type": "code",
      "source": [
        "# Transformando a lista em tensor\n",
        "X = tf.convert_to_tensor(celsius, dtype=tf.float32)\n",
        "\n",
        "print(X)"
      ],
      "metadata": {
        "colab": {
          "base_uri": "https://localhost:8080/"
        },
        "id": "yR24sWGlql_4",
        "outputId": "26d83cd3-184d-48e3-9e70-2719b0e3e26b"
      },
      "execution_count": 3,
      "outputs": [
        {
          "output_type": "stream",
          "name": "stdout",
          "text": [
            "tf.Tensor(\n",
            "[82. 15.  4. 95. 36. 32. 29. 18. 95. 14. 87. 95. 70. 12. 76. 55.  5.  4.\n",
            " 12. 28. 30. 65. 78.  4. 72. 26. 92. 84. 90. 70. 54. 29. 58. 76. 36.  1.\n",
            " 98. 21. 90. 55. 44. 36. 20. 28. 98. 44. 14. 12. 49. 13.], shape=(50,), dtype=float32)\n"
          ]
        }
      ]
    },
    {
      "cell_type": "code",
      "source": [
        "# Fução para transformar C para F\n",
        "def transform_temp(c):\n",
        "  temp_f = (c * 9 / 5) + 32\n",
        "  return temp_f"
      ],
      "metadata": {
        "id": "W9oMw8klzc5u"
      },
      "execution_count": 4,
      "outputs": []
    },
    {
      "cell_type": "code",
      "source": [
        "# Verificando se a função está correta\n",
        "teste = transform_temp(15)\n",
        "teste"
      ],
      "metadata": {
        "colab": {
          "base_uri": "https://localhost:8080/"
        },
        "id": "RzFDRr-p0MkT",
        "outputId": "baa2709d-f482-46a4-f7d5-0cc1e79d593f"
      },
      "execution_count": 5,
      "outputs": [
        {
          "output_type": "execute_result",
          "data": {
            "text/plain": [
              "59.0"
            ]
          },
          "metadata": {},
          "execution_count": 5
        }
      ]
    },
    {
      "cell_type": "code",
      "source": [
        "# Transformando o X em label\n",
        "\n",
        "y = [transform_temp(i) for i in X]\n",
        "\n",
        "y"
      ],
      "metadata": {
        "colab": {
          "base_uri": "https://localhost:8080/"
        },
        "id": "Br1GE0Mt0VPO",
        "outputId": "784c1dd3-4ec6-416e-91ec-d27e15386644"
      },
      "execution_count": 6,
      "outputs": [
        {
          "output_type": "execute_result",
          "data": {
            "text/plain": [
              "[<tf.Tensor: shape=(), dtype=float32, numpy=179.6>,\n",
              " <tf.Tensor: shape=(), dtype=float32, numpy=59.0>,\n",
              " <tf.Tensor: shape=(), dtype=float32, numpy=39.2>,\n",
              " <tf.Tensor: shape=(), dtype=float32, numpy=203.0>,\n",
              " <tf.Tensor: shape=(), dtype=float32, numpy=96.8>,\n",
              " <tf.Tensor: shape=(), dtype=float32, numpy=89.6>,\n",
              " <tf.Tensor: shape=(), dtype=float32, numpy=84.2>,\n",
              " <tf.Tensor: shape=(), dtype=float32, numpy=64.4>,\n",
              " <tf.Tensor: shape=(), dtype=float32, numpy=203.0>,\n",
              " <tf.Tensor: shape=(), dtype=float32, numpy=57.2>,\n",
              " <tf.Tensor: shape=(), dtype=float32, numpy=188.6>,\n",
              " <tf.Tensor: shape=(), dtype=float32, numpy=203.0>,\n",
              " <tf.Tensor: shape=(), dtype=float32, numpy=158.0>,\n",
              " <tf.Tensor: shape=(), dtype=float32, numpy=53.6>,\n",
              " <tf.Tensor: shape=(), dtype=float32, numpy=168.8>,\n",
              " <tf.Tensor: shape=(), dtype=float32, numpy=131.0>,\n",
              " <tf.Tensor: shape=(), dtype=float32, numpy=41.0>,\n",
              " <tf.Tensor: shape=(), dtype=float32, numpy=39.2>,\n",
              " <tf.Tensor: shape=(), dtype=float32, numpy=53.6>,\n",
              " <tf.Tensor: shape=(), dtype=float32, numpy=82.4>,\n",
              " <tf.Tensor: shape=(), dtype=float32, numpy=86.0>,\n",
              " <tf.Tensor: shape=(), dtype=float32, numpy=149.0>,\n",
              " <tf.Tensor: shape=(), dtype=float32, numpy=172.4>,\n",
              " <tf.Tensor: shape=(), dtype=float32, numpy=39.2>,\n",
              " <tf.Tensor: shape=(), dtype=float32, numpy=161.6>,\n",
              " <tf.Tensor: shape=(), dtype=float32, numpy=78.8>,\n",
              " <tf.Tensor: shape=(), dtype=float32, numpy=197.6>,\n",
              " <tf.Tensor: shape=(), dtype=float32, numpy=183.2>,\n",
              " <tf.Tensor: shape=(), dtype=float32, numpy=194.0>,\n",
              " <tf.Tensor: shape=(), dtype=float32, numpy=158.0>,\n",
              " <tf.Tensor: shape=(), dtype=float32, numpy=129.2>,\n",
              " <tf.Tensor: shape=(), dtype=float32, numpy=84.2>,\n",
              " <tf.Tensor: shape=(), dtype=float32, numpy=136.4>,\n",
              " <tf.Tensor: shape=(), dtype=float32, numpy=168.8>,\n",
              " <tf.Tensor: shape=(), dtype=float32, numpy=96.8>,\n",
              " <tf.Tensor: shape=(), dtype=float32, numpy=33.8>,\n",
              " <tf.Tensor: shape=(), dtype=float32, numpy=208.4>,\n",
              " <tf.Tensor: shape=(), dtype=float32, numpy=69.8>,\n",
              " <tf.Tensor: shape=(), dtype=float32, numpy=194.0>,\n",
              " <tf.Tensor: shape=(), dtype=float32, numpy=131.0>,\n",
              " <tf.Tensor: shape=(), dtype=float32, numpy=111.2>,\n",
              " <tf.Tensor: shape=(), dtype=float32, numpy=96.8>,\n",
              " <tf.Tensor: shape=(), dtype=float32, numpy=68.0>,\n",
              " <tf.Tensor: shape=(), dtype=float32, numpy=82.4>,\n",
              " <tf.Tensor: shape=(), dtype=float32, numpy=208.4>,\n",
              " <tf.Tensor: shape=(), dtype=float32, numpy=111.2>,\n",
              " <tf.Tensor: shape=(), dtype=float32, numpy=57.2>,\n",
              " <tf.Tensor: shape=(), dtype=float32, numpy=53.6>,\n",
              " <tf.Tensor: shape=(), dtype=float32, numpy=120.2>,\n",
              " <tf.Tensor: shape=(), dtype=float32, numpy=55.4>]"
            ]
          },
          "metadata": {},
          "execution_count": 6
        }
      ]
    },
    {
      "cell_type": "code",
      "source": [
        "#  separando treino e teste\n",
        "\n",
        "data_split = int(len(X) * 0.8) # Pegando 80% dos dados para treinar\n",
        "\n",
        "X_train = X[:data_split]\n",
        "y_train = y[:data_split]\n",
        "\n",
        "X_test = X[data_split:]\n",
        "y_test = y[data_split:]\n",
        "\n",
        "len(X_train), len(y_train), len(y_test), len(X_test)"
      ],
      "metadata": {
        "colab": {
          "base_uri": "https://localhost:8080/"
        },
        "id": "vMs0aFf69DvY",
        "outputId": "1c8a1897-0924-405a-a437-82b47cc8eaf8"
      },
      "execution_count": 7,
      "outputs": [
        {
          "output_type": "execute_result",
          "data": {
            "text/plain": [
              "(40, 40, 10, 10)"
            ]
          },
          "metadata": {},
          "execution_count": 7
        }
      ]
    },
    {
      "cell_type": "code",
      "source": [
        "# Deixando os dados bidimensionais\n",
        "X_train = tf.reshape(X_train, (-1, 1))\n",
        "y_train = tf.reshape(y_train, (-1, 1))"
      ],
      "metadata": {
        "id": "ZkabAyleMDET"
      },
      "execution_count": 8,
      "outputs": []
    },
    {
      "cell_type": "code",
      "source": [
        "# Criando o modelo\n",
        "model = tf.keras.Sequential([\n",
        "    tf.keras.layers.Dense(100, input_shape=(1,), activation=tf.keras.activations.linear),\n",
        "    tf.keras.layers.Dense(50, activation=tf.keras.activations.linear),\n",
        "    tf.keras.layers.Dense(50, activation=tf.keras.activations.linear),\n",
        "    tf.keras.layers.Dense(20, activation=tf.keras.activations.linear),\n",
        "    tf.keras.layers.Dense(1)\n",
        "])\n",
        "\n",
        "# compile the model\n",
        "model.compile(optimizer=tf.keras.optimizers.Adam(),\n",
        "              loss='mse',\n",
        "              metrics=['mse'])\n",
        "\n",
        "# Treinar o model (fit the model)\n",
        "\n",
        "history = model.fit(X_train, y_train, epochs=30)"
      ],
      "metadata": {
        "colab": {
          "base_uri": "https://localhost:8080/"
        },
        "id": "jZQH9pbRIZoG",
        "outputId": "155ec22c-2944-4fcc-eaf8-81d760c3c58a"
      },
      "execution_count": 25,
      "outputs": [
        {
          "output_type": "stream",
          "name": "stdout",
          "text": [
            "Epoch 1/30\n",
            "2/2 [==============================] - 2s 11ms/step - loss: 17486.6953 - mse: 17486.6953\n",
            "Epoch 2/30\n",
            "2/2 [==============================] - 0s 8ms/step - loss: 12791.3809 - mse: 12791.3809\n",
            "Epoch 3/30\n",
            "2/2 [==============================] - 0s 10ms/step - loss: 8464.5391 - mse: 8464.5391\n",
            "Epoch 4/30\n",
            "2/2 [==============================] - 0s 9ms/step - loss: 5294.5195 - mse: 5294.5195\n",
            "Epoch 5/30\n",
            "2/2 [==============================] - 0s 11ms/step - loss: 2437.8782 - mse: 2437.8782\n",
            "Epoch 6/30\n",
            "2/2 [==============================] - 0s 10ms/step - loss: 749.4097 - mse: 749.4097\n",
            "Epoch 7/30\n",
            "2/2 [==============================] - 0s 8ms/step - loss: 367.5453 - mse: 367.5453\n",
            "Epoch 8/30\n",
            "2/2 [==============================] - 0s 9ms/step - loss: 920.7610 - mse: 920.7610\n",
            "Epoch 9/30\n",
            "2/2 [==============================] - 0s 7ms/step - loss: 1520.1792 - mse: 1520.1792\n",
            "Epoch 10/30\n",
            "2/2 [==============================] - 0s 11ms/step - loss: 1401.6219 - mse: 1401.6219\n",
            "Epoch 11/30\n",
            "2/2 [==============================] - 0s 8ms/step - loss: 937.3740 - mse: 937.3740\n",
            "Epoch 12/30\n",
            "2/2 [==============================] - 0s 9ms/step - loss: 462.7409 - mse: 462.7409\n",
            "Epoch 13/30\n",
            "2/2 [==============================] - 0s 9ms/step - loss: 295.9510 - mse: 295.9510\n",
            "Epoch 14/30\n",
            "2/2 [==============================] - 0s 8ms/step - loss: 349.7388 - mse: 349.7388\n",
            "Epoch 15/30\n",
            "2/2 [==============================] - 0s 15ms/step - loss: 469.5449 - mse: 469.5449\n",
            "Epoch 16/30\n",
            "2/2 [==============================] - 0s 8ms/step - loss: 559.4596 - mse: 559.4596\n",
            "Epoch 17/30\n",
            "2/2 [==============================] - 0s 9ms/step - loss: 575.6443 - mse: 575.6443\n",
            "Epoch 18/30\n",
            "2/2 [==============================] - 0s 8ms/step - loss: 520.5381 - mse: 520.5381\n",
            "Epoch 19/30\n",
            "2/2 [==============================] - 0s 8ms/step - loss: 425.2715 - mse: 425.2715\n",
            "Epoch 20/30\n",
            "2/2 [==============================] - 0s 9ms/step - loss: 339.2589 - mse: 339.2589\n",
            "Epoch 21/30\n",
            "2/2 [==============================] - 0s 10ms/step - loss: 298.2367 - mse: 298.2367\n",
            "Epoch 22/30\n",
            "2/2 [==============================] - 0s 8ms/step - loss: 297.0615 - mse: 297.0615\n",
            "Epoch 23/30\n",
            "2/2 [==============================] - 0s 8ms/step - loss: 327.9515 - mse: 327.9515\n",
            "Epoch 24/30\n",
            "2/2 [==============================] - 0s 8ms/step - loss: 343.4193 - mse: 343.4193\n",
            "Epoch 25/30\n",
            "2/2 [==============================] - 0s 8ms/step - loss: 336.5251 - mse: 336.5251\n",
            "Epoch 26/30\n",
            "2/2 [==============================] - 0s 7ms/step - loss: 314.9897 - mse: 314.9897\n",
            "Epoch 27/30\n",
            "2/2 [==============================] - 0s 8ms/step - loss: 294.0978 - mse: 294.0978\n",
            "Epoch 28/30\n",
            "2/2 [==============================] - 0s 7ms/step - loss: 288.0241 - mse: 288.0241\n",
            "Epoch 29/30\n",
            "2/2 [==============================] - 0s 7ms/step - loss: 293.5784 - mse: 293.5784\n",
            "Epoch 30/30\n",
            "2/2 [==============================] - 0s 7ms/step - loss: 304.2155 - mse: 304.2155\n"
          ]
        }
      ]
    },
    {
      "cell_type": "code",
      "source": [
        "model.evaluate(X_train, y_train)"
      ],
      "metadata": {
        "colab": {
          "base_uri": "https://localhost:8080/"
        },
        "id": "SHql6yxGM2Al",
        "outputId": "e59cc72e-ea8d-4ef6-aeb7-554003611fb8"
      },
      "execution_count": 20,
      "outputs": [
        {
          "output_type": "stream",
          "name": "stdout",
          "text": [
            "2/2 [==============================] - 1s 14ms/step - loss: 233.9606 - mae: 13.2082\n"
          ]
        },
        {
          "output_type": "execute_result",
          "data": {
            "text/plain": [
              "[233.96060180664062, 13.208154678344727]"
            ]
          },
          "metadata": {},
          "execution_count": 20
        }
      ]
    },
    {
      "cell_type": "code",
      "source": [
        "import matplotlib.pyplot as plt\n",
        "import pandas as pd\n",
        "\n",
        "\n",
        "# Plot history (also known as a loss curve)\n",
        "pd.DataFrame(history.history).plot()\n",
        "plt.ylabel(\"loss\")\n",
        "plt.xlabel(\"epochs\");"
      ],
      "metadata": {
        "colab": {
          "base_uri": "https://localhost:8080/",
          "height": 449
        },
        "id": "PSJg_e4jN0j1",
        "outputId": "35719d35-3607-4d77-9815-1847b6322834"
      },
      "execution_count": 26,
      "outputs": [
        {
          "output_type": "display_data",
          "data": {
            "text/plain": [
              "<Figure size 640x480 with 1 Axes>"
            ],
            "image/png": "[encoded data removed]"
          },
          "metadata": {}
        }
      ]
    },
    {
      "cell_type": "code",
      "source": [
        "model.predict([[30]])"
      ],
      "metadata": {
        "colab": {
          "base_uri": "https://localhost:8080/"
        },
        "id": "_lzY8izoSfPa",
        "outputId": "c488fb82-5496-44d1-d85a-c8e7c2e3b9c4"
      },
      "execution_count": 28,
      "outputs": [
        {
          "output_type": "stream",
          "name": "stdout",
          "text": [
            "1/1 [==============================] - 0s 381ms/step\n"
          ]
        },
        {
          "output_type": "execute_result",
          "data": {
            "text/plain": [
              "array([[65.75431]], dtype=float32)"
            ]
          },
          "metadata": {},
          "execution_count": 28
        }
      ]
    },
    {
      "cell_type": "markdown",
      "source": [
        "O resultado não está preciso pois eu poderia ter diminuido mais o loss com a normalização dos meus dados, e mais alguns outros passos (como aumentar os epochs e diminuir o learning_rate)\n"
      ],
      "metadata": {
        "id": "ZX87JjfLS_J3"
      }
    }
  ]
}